{
 "cells": [
  {
   "cell_type": "markdown",
   "metadata": {},
   "source": [
    "# Case study\n",
    "\n",
    "Xứ lý tập dữ liệu về chất lượng rượu vang\n",
    "\n",
    "https://archive.ics.uci.edu/ml/datasets/Wine+Quality\n",
    "\n",
    "- rượu từ phía bắc Bồ Đào Nha\n",
    "\n",
    "- Các cột dữ liệu dựa trên đặc tính hoá học (Input variables - based on physicochemical tests):\n",
    "\n",
    "    - 1\tFixed Acidity\n",
    "    - 2\tVolatile Acidity\n",
    "    - 3\tCitric Acid\n",
    "    - 4\tResidual Sugar\n",
    "    - 5\tChlorides\n",
    "    - 6\tFree Sulfur Dioxide\n",
    "    - 7\tTotal Sulfur Dioxide\n",
    "    - 8\tDensity\n",
    "    - 9\tpH\n",
    "    - 10\tSulphates\n",
    "    - 11\tAlcohol\n",
    "    - 12\t**Quality** - Score between 0 and 10 (median of at least 3 evaluations made by wine experts)\n",
    "\n",
    "**Note**\n",
    "--------------------\n",
    "- Độ axit cố định (fixed acidity): là thước đo axit không bay hơi hoặc cố định. Các axit này hầy hết bắt nguồn từ nho. Các axit cố định chủ yếu tìm thấy trong rượu vang là tartaric, malic, citric và succinic. Đơn vị tính là (gam/l)\n",
    "- Độ bay hơi axit (volatile acidity): là thước đo axit dễ bay hơi (hoặc ở dạng khí) của rượu vang. Axit dễ bay hơi chính trong rượu vang là axit axetic, đây cũng là axit chính liên quan đến mùi và vị của giấm. Đơn vị tính là (gam/l)\n",
    "- Axit citric (citric acid): là axit hữu cơ yếu, được cho vào rượu vang như chất bảo quản tự nhiên và tạo thêm độ chua cho rượu.\n",
    "- Đường dư (residual sugar): là lượng đường tự nhiên từ trái nho còn lại sau khi quá trình lên men rượu vang đỏ kết thúc. Được tính bằng (gam/l)\n",
    "- Clorua (chlorides): rượu vang có chứa 2 đến 4 (gam/l) muối của axit khoáng, khác với các axit hữu cơ khác. Chúng là nguyên nhân tiềm năng dẫn đến vị muối của rượu. Như vậy clorua trở thành yếu tố chính cho độ mặn của rượu. Đơn vị tính là (gam/l)\n",
    "- Lưu huỳnh đioxit tự do (Free sulfur dioxide): là thước đo lượng SO2 không liên kết với các phân tử khác và sử dụng để tính SO2 phân tử. Được dùng trong quá trình sản xuất rượu vang để ngăn chặn quá trình oxi hóa và sự phát triển của vi sinh vật. Đơn vị tính là (mg/l)\n",
    "- Tổng lượng lưu huỳnh đioxit (total sulfur dioxide): là thước đo của dạng liên kết và tự do của SO2. SO2 liên kết dùng để chỉ các phân tử SO2 được liên kết với các hợp chất khác, chủ yếu là aldehyde, pyruvate và anthocyanins. Được dùng trong sản xuất rượu vang để ngăn chặn quá trình oxi hóa và sự phát triển của vi sinh vật. Lượng SO2 quá nhiều có thể ức chế quá trình lên men và gây ra các hiệu ứng cảm quan không mong muốn. Đơn vị tính là (mg/l)\n",
    "- Mật độ (density): Đơn vị đo (gam/cm3)\n",
    "- Độ pH (pH): mô tả độ axit hoặc bazơ của rượu trên thang từ 0 (rất axit) đến 14 (rất bazơ); hầu hết các loại rượu đều nằm trong khoảng 3-4 trên thang độ pH\n",
    "- Muối sulfat (sulphates): Có công thức hóa học là (S04) (2-). là một chất phụ gia rượu vang có thể góp phần tạo ra khí ga sulfur dioxide (SO2), nó hoạt động như một chất chống vi khuẩn và chống oxi hóa. Đơn vị tính là (gam/l)\n",
    "- Cồn (alcohol): nồng độ phần trăm cồn của rượu vang\n",
    "\n",
    "- Chất lượng (quality): là thang điểm từ 1 đến 10 dựa trên đánh giá của chuyên gia"
   ]
  },
  {
   "cell_type": "markdown",
   "metadata": {},
   "source": [
    "# Lesson Overview\n",
    "Xử lý dữ liệu thực tế. Sử dụng python libraries (Pandas, NumPy, Matplotlib) để phân tích đặc tính hoá học của Rượu vang và xếp hạng chất lượng tương ứng. Chúng ta sẽ thực hành với:\n",
    "\n",
    "- Đánh giá và làm sạch dữ liệu (Assessing and Cleaning Data)\n",
    "- Feature Engineering\n",
    "- Trực quan hoá kết quả (Visualizing Your Results)\n",
    "\n",
    "Tóm lại: bộ data gồm 5000 bản ghi về dữ liệu rượu vang gồm 1 cột chất lượng và 11 cột đặc tính lý hoá. Ta có thể đưa ra kết luận gì?"
   ]
  },
  {
   "cell_type": "markdown",
   "metadata": {},
   "source": [
    "# Các bước thực hiện\n",
    "\n",
    "**Step 1: Ask questions**\n",
    "\n",
    "**Step 2: Wrangle data**\n",
    "\n",
    "3 bước nhỏ: gather, assess, clean. Lấy dữ liệu phù hợp với các câu hỏi đưa ra, đánh giá dữ liệu và xác định các vấn đề về chất lượng hay cấu trúc, và làm sạch dữ liệu bằng cách biến đổi (modifying, replacing, or removing data) để đảm bảo dữ liệu có cấu trúc/định dạng tốt\n",
    "\n",
    "**Step 3: Perform EDA (Exploratory Data Analysis)**\n",
    "\n",
    "Khai phá dữ liệu giúp phân tích và trực quan hoá dữ liệu hiệu quả hơn (bỏ qua outliner hay thêm đặc tính), thường được dùng kèm với thuật ngữ \"feature engineering\"\n",
    "\n",
    "**Step 4: Draw conclusions (or even make predictions)**\n",
    "\n",
    "Ví dụ này tập trung vào rút ra kết luận với \"descriptive statistics\". Nâng cao hơn có thể áp dụng machine learning hoặc inferential statistics\n",
    "\n",
    "**Step 5: Communicate your results**\n",
    "\n",
    "Xuất báo cáo, dashboard, email, trình chiếu với mục đích thuyết phục người dùng về kết quả tìm kiếm được\n"
   ]
  },
  {
   "cell_type": "markdown",
   "metadata": {},
   "source": [
    "### Bước 1: Đặt câu hỏi\n",
    "\n",
    "- Đặc tính hoá học nào là quan trọng nhất để đánh giá chất lượng rượu vang?\n",
    "- Có phải là vang đỏ/trắng có chất lượng cao hơn không?\n",
    "- Rượu vang với nồng độ cồn cao hơn có được đánh giá tốt hơn không?\n",
    "- Rượu ngọt hơn (residual surgar) có được đánh giá tốt hơn không?\n",
    "- Mức độ acidity nào đi kèm với chất lượng tốt hơn?"
   ]
  },
  {
   "cell_type": "code",
   "execution_count": 1,
   "metadata": {},
   "outputs": [],
   "source": [
    "import pandas as pd\n",
    "import numpy as np"
   ]
  },
  {
   "cell_type": "markdown",
   "metadata": {},
   "source": [
    "\n",
    "### Bước 2: \"gather, assess, clean\" tập dữ liệu đối với vang đỏ và vang trắng (red and white wine samples). \n",
    "\n",
    "- Đọc dữ liệu\n",
    "**Chú ý** dữ liệu cách nhau bởi \";\"\n",
    "import pandas as pd\n",
    "df = pd.read_csv('winequality-red.csv', sep = ';')\n",
    "df.head()\n",
    "\n",
    "- sử dụng .head(), ví dụ red_df.head() hoặc white_df.head() đối với 2 tập dữ liệu \"vang đỏ\" và \"vang trắng\", để hiển thị 5 dòng đầu tiên của dataframe\n",
    "\n",
    "- Sử dụng các method của pandas để lấy thông tin:\n",
    "    - number of samples in each dataset\n",
    "    - number of columns in each dataset\n",
    "    - features with missing values\n",
    "    - duplicate rows in the white wine dataset\n",
    "    - number of unique values for quality in each dataset\n",
    "    - mean density of the red wine dataset\n",
    "    \n",
    "\n",
    "- Ghép 2 tập dữ liệu với nhau (appending) thành 1 tập dữ liệu lớn hơn để bắt đầu tính toán\n",
    "    - Bước 1: tạo thêm cột 'red' đối với dataframe red_wine, và cột 'white' với dataframe white_wine\n",
    "    - Ghép 2 dataframe với nhau sử dụng Concat hoặc append (ít được ưa chuộng)\n",
    "    - Lưu tập dữ liệu đã được ghép vào nhau với tên winequality_edited.csv (index=False)"
   ]
  },
  {
   "cell_type": "code",
   "execution_count": 11,
   "metadata": {},
   "outputs": [],
   "source": [
    "red_wine = pd.read_csv('winequality-red.csv', sep=';')\n",
    "red_wine.head()\n",
    "white_wine = pd.read_csv('winequality-white.csv', sep=';')\n",
    "# white_wine.head()"
   ]
  },
  {
   "cell_type": "code",
   "execution_count": 15,
   "metadata": {},
   "outputs": [
    {
     "data": {
      "text/plain": [
       "fixed acidity           0\n",
       "volatile acidity        0\n",
       "citric acid             0\n",
       "residual sugar          0\n",
       "chlorides               0\n",
       "free sulfur dioxide     0\n",
       "total_sulfur-dioxide    0\n",
       "density                 0\n",
       "pH                      0\n",
       "sulphates               0\n",
       "alcohol                 0\n",
       "quality                 0\n",
       "dtype: int64"
      ]
     },
     "execution_count": 15,
     "metadata": {},
     "output_type": "execute_result"
    }
   ],
   "source": [
    "#Kiểm tra dữ liệu có bị null không\n",
    "red_wine.isnull().sum()"
   ]
  },
  {
   "cell_type": "code",
   "execution_count": 16,
   "metadata": {},
   "outputs": [
    {
     "data": {
      "text/plain": [
       "fixed acidity           0\n",
       "volatile acidity        0\n",
       "citric acid             0\n",
       "residual sugar          0\n",
       "chlorides               0\n",
       "free sulfur dioxide     0\n",
       "total_sulfur_dioxide    0\n",
       "density                 0\n",
       "pH                      0\n",
       "sulphates               0\n",
       "alcohol                 0\n",
       "quality                 0\n",
       "dtype: int64"
      ]
     },
     "execution_count": 16,
     "metadata": {},
     "output_type": "execute_result"
    }
   ],
   "source": [
    "white_wine.isnull().sum()"
   ]
  },
  {
   "cell_type": "code",
   "execution_count": 19,
   "metadata": {},
   "outputs": [
    {
     "data": {
      "text/plain": [
       "6"
      ]
     },
     "execution_count": 19,
     "metadata": {},
     "output_type": "execute_result"
    }
   ],
   "source": [
    "red_wine.quality.nunique()"
   ]
  },
  {
   "cell_type": "code",
   "execution_count": 20,
   "metadata": {},
   "outputs": [
    {
     "data": {
      "text/plain": [
       "7"
      ]
     },
     "execution_count": 20,
     "metadata": {},
     "output_type": "execute_result"
    }
   ],
   "source": [
    "white_wine.quality.nunique()"
   ]
  },
  {
   "cell_type": "code",
   "execution_count": 21,
   "metadata": {},
   "outputs": [
    {
     "data": {
      "text/plain": [
       "0.9967466791744831"
      ]
     },
     "execution_count": 21,
     "metadata": {},
     "output_type": "execute_result"
    }
   ],
   "source": [
    "red_wine.density.mean()"
   ]
  },
  {
   "cell_type": "code",
   "execution_count": 26,
   "metadata": {},
   "outputs": [
    {
     "data": {
      "text/plain": [
       "0.9940273764801896"
      ]
     },
     "execution_count": 26,
     "metadata": {},
     "output_type": "execute_result"
    }
   ],
   "source": [
    "white_wine.density.mean()"
   ]
  },
  {
   "cell_type": "code",
   "execution_count": 28,
   "metadata": {},
   "outputs": [
    {
     "data": {
      "text/plain": [
       "240"
      ]
     },
     "execution_count": 28,
     "metadata": {},
     "output_type": "execute_result"
    }
   ],
   "source": [
    "red_wine.duplicated().sum()"
   ]
  },
  {
   "cell_type": "code",
   "execution_count": 29,
   "metadata": {},
   "outputs": [
    {
     "data": {
      "text/plain": [
       "937"
      ]
     },
     "execution_count": 29,
     "metadata": {},
     "output_type": "execute_result"
    }
   ],
   "source": [
    "white_wine.duplicated().sum()"
   ]
  },
  {
   "cell_type": "code",
   "execution_count": 30,
   "metadata": {},
   "outputs": [
    {
     "data": {
      "text/html": [
       "<div>\n",
       "<style scoped>\n",
       "    .dataframe tbody tr th:only-of-type {\n",
       "        vertical-align: middle;\n",
       "    }\n",
       "\n",
       "    .dataframe tbody tr th {\n",
       "        vertical-align: top;\n",
       "    }\n",
       "\n",
       "    .dataframe thead th {\n",
       "        text-align: right;\n",
       "    }\n",
       "</style>\n",
       "<table border=\"1\" class=\"dataframe\">\n",
       "  <thead>\n",
       "    <tr style=\"text-align: right;\">\n",
       "      <th></th>\n",
       "      <th>fixed acidity</th>\n",
       "      <th>volatile acidity</th>\n",
       "      <th>citric acid</th>\n",
       "      <th>residual sugar</th>\n",
       "      <th>chlorides</th>\n",
       "      <th>free sulfur dioxide</th>\n",
       "      <th>total_sulfur_dioxide</th>\n",
       "      <th>density</th>\n",
       "      <th>pH</th>\n",
       "      <th>sulphates</th>\n",
       "      <th>alcohol</th>\n",
       "      <th>quality</th>\n",
       "    </tr>\n",
       "  </thead>\n",
       "  <tbody>\n",
       "    <tr>\n",
       "      <th>0</th>\n",
       "      <td>7.4</td>\n",
       "      <td>0.70</td>\n",
       "      <td>0.00</td>\n",
       "      <td>1.9</td>\n",
       "      <td>0.076</td>\n",
       "      <td>11.0</td>\n",
       "      <td>34.0</td>\n",
       "      <td>0.9978</td>\n",
       "      <td>3.51</td>\n",
       "      <td>0.56</td>\n",
       "      <td>9.4</td>\n",
       "      <td>5</td>\n",
       "    </tr>\n",
       "    <tr>\n",
       "      <th>1</th>\n",
       "      <td>7.8</td>\n",
       "      <td>0.88</td>\n",
       "      <td>0.00</td>\n",
       "      <td>2.6</td>\n",
       "      <td>0.098</td>\n",
       "      <td>25.0</td>\n",
       "      <td>67.0</td>\n",
       "      <td>0.9968</td>\n",
       "      <td>3.20</td>\n",
       "      <td>0.68</td>\n",
       "      <td>9.8</td>\n",
       "      <td>5</td>\n",
       "    </tr>\n",
       "    <tr>\n",
       "      <th>2</th>\n",
       "      <td>7.8</td>\n",
       "      <td>0.76</td>\n",
       "      <td>0.04</td>\n",
       "      <td>2.3</td>\n",
       "      <td>0.092</td>\n",
       "      <td>15.0</td>\n",
       "      <td>54.0</td>\n",
       "      <td>0.9970</td>\n",
       "      <td>3.26</td>\n",
       "      <td>0.65</td>\n",
       "      <td>9.8</td>\n",
       "      <td>5</td>\n",
       "    </tr>\n",
       "    <tr>\n",
       "      <th>3</th>\n",
       "      <td>11.2</td>\n",
       "      <td>0.28</td>\n",
       "      <td>0.56</td>\n",
       "      <td>1.9</td>\n",
       "      <td>0.075</td>\n",
       "      <td>17.0</td>\n",
       "      <td>60.0</td>\n",
       "      <td>0.9980</td>\n",
       "      <td>3.16</td>\n",
       "      <td>0.58</td>\n",
       "      <td>9.8</td>\n",
       "      <td>6</td>\n",
       "    </tr>\n",
       "    <tr>\n",
       "      <th>4</th>\n",
       "      <td>7.4</td>\n",
       "      <td>0.70</td>\n",
       "      <td>0.00</td>\n",
       "      <td>1.9</td>\n",
       "      <td>0.076</td>\n",
       "      <td>11.0</td>\n",
       "      <td>34.0</td>\n",
       "      <td>0.9978</td>\n",
       "      <td>3.51</td>\n",
       "      <td>0.56</td>\n",
       "      <td>9.4</td>\n",
       "      <td>5</td>\n",
       "    </tr>\n",
       "  </tbody>\n",
       "</table>\n",
       "</div>"
      ],
      "text/plain": [
       "   fixed acidity  volatile acidity  citric acid  residual sugar  chlorides  \\\n",
       "0            7.4              0.70         0.00             1.9      0.076   \n",
       "1            7.8              0.88         0.00             2.6      0.098   \n",
       "2            7.8              0.76         0.04             2.3      0.092   \n",
       "3           11.2              0.28         0.56             1.9      0.075   \n",
       "4            7.4              0.70         0.00             1.9      0.076   \n",
       "\n",
       "   free sulfur dioxide  total_sulfur_dioxide  density    pH  sulphates  \\\n",
       "0                 11.0                  34.0   0.9978  3.51       0.56   \n",
       "1                 25.0                  67.0   0.9968  3.20       0.68   \n",
       "2                 15.0                  54.0   0.9970  3.26       0.65   \n",
       "3                 17.0                  60.0   0.9980  3.16       0.58   \n",
       "4                 11.0                  34.0   0.9978  3.51       0.56   \n",
       "\n",
       "   alcohol  quality  \n",
       "0      9.4        5  \n",
       "1      9.8        5  \n",
       "2      9.8        5  \n",
       "3      9.8        6  \n",
       "4      9.4        5  "
      ]
     },
     "execution_count": 30,
     "metadata": {},
     "output_type": "execute_result"
    }
   ],
   "source": [
    "red_wine.rename(columns={'total_sulfur-dioxide':'total_sulfur_dioxide'}, inplace=True)\n",
    "red_wine.head()"
   ]
  },
  {
   "cell_type": "code",
   "execution_count": 31,
   "metadata": {},
   "outputs": [],
   "source": [
    "color_red = np.repeat('red',red_wine.shape[0])\n",
    "color_white = np.repeat('white',white_wine.shape[0])"
   ]
  },
  {
   "cell_type": "code",
   "execution_count": 33,
   "metadata": {},
   "outputs": [],
   "source": [
    "red_wine['color'] = color_red\n",
    "white_wine['color'] = color_white"
   ]
  },
  {
   "cell_type": "code",
   "execution_count": 34,
   "metadata": {},
   "outputs": [
    {
     "data": {
      "text/html": [
       "<div>\n",
       "<style scoped>\n",
       "    .dataframe tbody tr th:only-of-type {\n",
       "        vertical-align: middle;\n",
       "    }\n",
       "\n",
       "    .dataframe tbody tr th {\n",
       "        vertical-align: top;\n",
       "    }\n",
       "\n",
       "    .dataframe thead th {\n",
       "        text-align: right;\n",
       "    }\n",
       "</style>\n",
       "<table border=\"1\" class=\"dataframe\">\n",
       "  <thead>\n",
       "    <tr style=\"text-align: right;\">\n",
       "      <th></th>\n",
       "      <th>fixed acidity</th>\n",
       "      <th>volatile acidity</th>\n",
       "      <th>citric acid</th>\n",
       "      <th>residual sugar</th>\n",
       "      <th>chlorides</th>\n",
       "      <th>free sulfur dioxide</th>\n",
       "      <th>total_sulfur_dioxide</th>\n",
       "      <th>density</th>\n",
       "      <th>pH</th>\n",
       "      <th>sulphates</th>\n",
       "      <th>alcohol</th>\n",
       "      <th>quality</th>\n",
       "      <th>color</th>\n",
       "    </tr>\n",
       "  </thead>\n",
       "  <tbody>\n",
       "    <tr>\n",
       "      <th>0</th>\n",
       "      <td>7.4</td>\n",
       "      <td>0.70</td>\n",
       "      <td>0.00</td>\n",
       "      <td>1.9</td>\n",
       "      <td>0.076</td>\n",
       "      <td>11.0</td>\n",
       "      <td>34.0</td>\n",
       "      <td>0.9978</td>\n",
       "      <td>3.51</td>\n",
       "      <td>0.56</td>\n",
       "      <td>9.4</td>\n",
       "      <td>5</td>\n",
       "      <td>red</td>\n",
       "    </tr>\n",
       "    <tr>\n",
       "      <th>1</th>\n",
       "      <td>7.8</td>\n",
       "      <td>0.88</td>\n",
       "      <td>0.00</td>\n",
       "      <td>2.6</td>\n",
       "      <td>0.098</td>\n",
       "      <td>25.0</td>\n",
       "      <td>67.0</td>\n",
       "      <td>0.9968</td>\n",
       "      <td>3.20</td>\n",
       "      <td>0.68</td>\n",
       "      <td>9.8</td>\n",
       "      <td>5</td>\n",
       "      <td>red</td>\n",
       "    </tr>\n",
       "    <tr>\n",
       "      <th>2</th>\n",
       "      <td>7.8</td>\n",
       "      <td>0.76</td>\n",
       "      <td>0.04</td>\n",
       "      <td>2.3</td>\n",
       "      <td>0.092</td>\n",
       "      <td>15.0</td>\n",
       "      <td>54.0</td>\n",
       "      <td>0.9970</td>\n",
       "      <td>3.26</td>\n",
       "      <td>0.65</td>\n",
       "      <td>9.8</td>\n",
       "      <td>5</td>\n",
       "      <td>red</td>\n",
       "    </tr>\n",
       "    <tr>\n",
       "      <th>3</th>\n",
       "      <td>11.2</td>\n",
       "      <td>0.28</td>\n",
       "      <td>0.56</td>\n",
       "      <td>1.9</td>\n",
       "      <td>0.075</td>\n",
       "      <td>17.0</td>\n",
       "      <td>60.0</td>\n",
       "      <td>0.9980</td>\n",
       "      <td>3.16</td>\n",
       "      <td>0.58</td>\n",
       "      <td>9.8</td>\n",
       "      <td>6</td>\n",
       "      <td>red</td>\n",
       "    </tr>\n",
       "    <tr>\n",
       "      <th>4</th>\n",
       "      <td>7.4</td>\n",
       "      <td>0.70</td>\n",
       "      <td>0.00</td>\n",
       "      <td>1.9</td>\n",
       "      <td>0.076</td>\n",
       "      <td>11.0</td>\n",
       "      <td>34.0</td>\n",
       "      <td>0.9978</td>\n",
       "      <td>3.51</td>\n",
       "      <td>0.56</td>\n",
       "      <td>9.4</td>\n",
       "      <td>5</td>\n",
       "      <td>red</td>\n",
       "    </tr>\n",
       "  </tbody>\n",
       "</table>\n",
       "</div>"
      ],
      "text/plain": [
       "   fixed acidity  volatile acidity  citric acid  residual sugar  chlorides  \\\n",
       "0            7.4              0.70         0.00             1.9      0.076   \n",
       "1            7.8              0.88         0.00             2.6      0.098   \n",
       "2            7.8              0.76         0.04             2.3      0.092   \n",
       "3           11.2              0.28         0.56             1.9      0.075   \n",
       "4            7.4              0.70         0.00             1.9      0.076   \n",
       "\n",
       "   free sulfur dioxide  total_sulfur_dioxide  density    pH  sulphates  \\\n",
       "0                 11.0                  34.0   0.9978  3.51       0.56   \n",
       "1                 25.0                  67.0   0.9968  3.20       0.68   \n",
       "2                 15.0                  54.0   0.9970  3.26       0.65   \n",
       "3                 17.0                  60.0   0.9980  3.16       0.58   \n",
       "4                 11.0                  34.0   0.9978  3.51       0.56   \n",
       "\n",
       "   alcohol  quality color  \n",
       "0      9.4        5   red  \n",
       "1      9.8        5   red  \n",
       "2      9.8        5   red  \n",
       "3      9.8        6   red  \n",
       "4      9.4        5   red  "
      ]
     },
     "execution_count": 34,
     "metadata": {},
     "output_type": "execute_result"
    }
   ],
   "source": [
    "wine_df = pd.concat([red_wine,white_wine])\n",
    "wine_df.head()"
   ]
  },
  {
   "cell_type": "code",
   "execution_count": null,
   "metadata": {},
   "outputs": [],
   "source": [
    "wine_df.to_csv('winequality_edited.csv', index=False)"
   ]
  },
  {
   "cell_type": "markdown",
   "metadata": {},
   "source": [
    "### Bước 3: Khám phá dữ liệu với các biểu đồ\n",
    "\n",
    "Giúp trả lời các câu hỏi\n",
    "\n",
    "- Dựa trên biểu đồ rải rác (scatterplots) đối với \"quality\", đặc tính nào có ảnh hưởng tích cực tới chất lượng rượu vang trong các đặc tính: residual_sugar, alcohol, pH, Volatile Acidity\n",
    "\n",
    "\n",
    "Sử dụng hàm sau để vẽ biểu đồ:\n",
    "df.plot(x=\"alcohol\", y=\"quality\", kind=\"scatter\")\n",
    "\n",
    "\n"
   ]
  },
  {
   "cell_type": "code",
   "execution_count": 1,
   "metadata": {},
   "outputs": [],
   "source": [
    "import pandas as pd\n",
    "import matplotlib.pyplot as plt\n",
    "df = pd.read_csv('winequality_edited.csv')"
   ]
  },
  {
   "cell_type": "code",
   "execution_count": 18,
   "metadata": {},
   "outputs": [
    {
     "data": {
      "text/plain": [
       "<AxesSubplot:xlabel='alcohol', ylabel='quality'>"
      ]
     },
     "execution_count": 18,
     "metadata": {},
     "output_type": "execute_result"
    },
    {
     "data": {
      "image/png": "[encoded data removed]",
      "text/plain": [
       "<Figure size 432x288 with 1 Axes>"
      ]
     },
     "metadata": {
      "needs_background": "light"
     },
     "output_type": "display_data"
    }
   ],
   "source": [
    "# df.head()\n",
    "# df.plot.scatter(x=\"fixed acidity\",y=\"quality\")\n",
    "# df.plot.scatter(x=\"volatile acidity\",y=\"quality\")\n",
    "# df.plot.scatter(x=\"citric acid\",y=\"quality\")\n",
    "# df.plot.scatter(x=\"chlorides\",y=\"quality\")\n",
    "# df.plot.scatter(x=\"free sulfur dioxide\",y=\"quality\")\n",
    "# df.plot(x=\"residual sugar\", y=\"quality\", kind=\"scatter\")\n",
    "# df.plot.scatter(x=\"total_sulfur_dioxide\",y=\"quality\")\n",
    "# df.plot.scatter(x=\"density\",y=\"quality\")\n",
    "# df.plot.scatter(x=\"pH\",y=\"quality\")\n",
    "# df.plot.scatter(x=\"sulphates\",y=\"quality\")\n",
    "df.plot.scatter(x=\"alcohol\",y=\"quality\")"
   ]
  },
  {
   "cell_type": "markdown",
   "metadata": {},
   "source": [
    "- Sulphates ít thì rượu cao điểm hơn (nhỏ hơn 1,25)\n",
    "\n",
    "- Volatile acid càng cao thì điểm càng thấp\n",
    "\n",
    "- chlorides càng cao thì rượu càng mặn nên không được đánh giá cao\n",
    "\n",
    "- Alcohol từ 10 - 13 thì được đánh giá cao hơn, Alcohol càng thấp thì nhiều khả năng rượu cũng được đánh giá thấp"
   ]
  },
  {
   "cell_type": "code",
   "execution_count": 5,
   "metadata": {},
   "outputs": [
    {
     "data": {
      "text/plain": [
       "<AxesSubplot:>"
      ]
     },
     "execution_count": 5,
     "metadata": {},
     "output_type": "execute_result"
    },
    {
     "data": {
      "image/png": "[encoded data removed]",
      "text/plain": [
       "<Figure size 432x288 with 1 Axes>"
      ]
     },
     "metadata": {
      "needs_background": "light"
     },
     "output_type": "display_data"
    }
   ],
   "source": [
    "# df['fixed acidity'].hist()\n",
    "# df['volatile acidity'].hist()\n",
    "# df['citric acid'].hist()\n",
    "# df['residual sugar'].hist()\n",
    "# df.chlorides.hist()\n",
    "# df['free sulfur dioxide'].hist()\n",
    "# df.total_sulfur_dioxide.hist()\n",
    "# df.density.hist()\n",
    "# df.pH.hist()\n",
    "# df.sulphates.hist()\n",
    "# df.alcohol.hist()"
   ]
  },
  {
   "cell_type": "markdown",
   "metadata": {},
   "source": []
  },
  {
   "cell_type": "markdown",
   "metadata": {},
   "source": [
    "### Bước 4: Đưa ra kết luận\n",
    "\n",
    "Dùng groupby để đưa ra kết luận đối với các thông tin tìm kiếm được theo nhóm\n",
    "\n",
    "Ví dụ:\n",
    "\n",
    "wine_df.mean()\n",
    "\n",
    "wine_df.groupby('quality').mean()\n",
    "\n",
    "wine_df.groupby(['quality', 'color'], as_index=False)['pH'].mean()\n",
    "\n",
    "**Các câu hỏi cần trả lời**\n",
    "\n",
    "Q1: Vang đỏ hay trắng có đi kèm với chất lượng tốt hơn không?\n",
    "- Nhóm lại theo \"color\" và tính trung bình cộng về \"quality\" của từng nhóm\n",
    "\n",
    "Q2: Mức độ chua nào (pH value) nhận được mức đánh giá cao nhất?\n",
    "- Gợi ý: cần phân đoạn pH value theo từng phần rồi nhóm lại theo cột mới\n",
    "- Sử dụng hàm describe() để tìm ra các mức độ pH\n",
    "\n",
    "Acidity Levels:\n",
    "High: Lowest 25% of pH values\n",
    "Moderately High: 25% - 50% of pH values\n",
    "Medium: 50% - 75% of pH values\n",
    "Low: 75% - max pH value\n",
    "\n",
    "Q3: Vang có độ cồn lớn hơn có được đánh giá tốt hơn không\n",
    "\n",
    "- Nhóm thành 2 nhóm:\n",
    "    - Low alcohol (samples with an alcohol content less than the median)\n",
    "    - High alcohol (samples with an alcohol content greater than or equal to the median)\n",
    "- Sau đó tính trung bình chất lượng từng nhóm\n",
    "\n",
    "Q4: Vang ngọt hơn (more residual sugar) có được đánh giá tốt hơn?\n",
    "- Tương tự, sử dụng median để cắt tập dữ liệu thành 2 nhóm \"residual sugar\" và tìm  \"mean quality rating\" từng nhóm.\n",
    "\n"
   ]
  },
  {
   "cell_type": "code",
   "execution_count": 2,
   "metadata": {},
   "outputs": [
    {
     "data": {
      "text/plain": [
       "color\n",
       "red      5.636023\n",
       "white    5.877909\n",
       "Name: quality, dtype: float64"
      ]
     },
     "execution_count": 2,
     "metadata": {},
     "output_type": "execute_result"
    }
   ],
   "source": [
    "# Q1. Có sự khác biệt nào giữa hai màu rượu?\n",
    "df.groupby('color').mean().quality"
   ]
  },
  {
   "cell_type": "markdown",
   "metadata": {},
   "source": [
    "Sự chênh lệch không đáng kể, nên màu rượu không ảnh hưởng đến điểm số"
   ]
  },
  {
   "cell_type": "code",
   "execution_count": 3,
   "metadata": {},
   "outputs": [
    {
     "data": {
      "text/plain": [
       "count    6497.000000\n",
       "mean        3.218501\n",
       "std         0.160787\n",
       "min         2.720000\n",
       "25%         3.110000\n",
       "50%         3.210000\n",
       "75%         3.320000\n",
       "max         4.010000\n",
       "Name: pH, dtype: float64"
      ]
     },
     "execution_count": 3,
     "metadata": {},
     "output_type": "execute_result"
    }
   ],
   "source": [
    "# Q2. Mức độ chua nào (pH value) nhận được mức đánh giá cao nhất?\n",
    "df.describe().pH"
   ]
  },
  {
   "cell_type": "code",
   "execution_count": 4,
   "metadata": {},
   "outputs": [
    {
     "data": {
      "text/plain": [
       "acidity_levels\n",
       "high        5.783343\n",
       "mod_high    5.784540\n",
       "medium      5.850832\n",
       "low         5.859593\n",
       "Name: quality, dtype: float64"
      ]
     },
     "execution_count": 4,
     "metadata": {},
     "output_type": "execute_result"
    }
   ],
   "source": [
    "# Tạo ra các bin chia độ pH\n",
    "bin_edges = [2.72,3.11,3.21,3.32,4.01]\n",
    "# Tên của các bin, đặt theo độ Acid (pH càng cao thì Acid càng thấp)\n",
    "bin_names = ['high','mod_high','medium','low']\n",
    "df['acidity_levels'] = pd.cut(df['pH'], bin_edges, labels=bin_names)\n",
    "df.to_csv('winequality_edited.csv', index=False)\n",
    "df.groupby('acidity_levels').mean().quality"
   ]
  },
  {
   "cell_type": "markdown",
   "metadata": {},
   "source": [
    "Nhóm low có điểm trung bình cao nhất, nên độ pH nằm trong khoảng 3.32 - 4.01 được ưa thích hơn."
   ]
  },
  {
   "cell_type": "markdown",
   "metadata": {},
   "source": []
  },
  {
   "cell_type": "code",
   "execution_count": 3,
   "metadata": {},
   "outputs": [
    {
     "data": {
      "text/plain": [
       "10.3"
      ]
     },
     "execution_count": 3,
     "metadata": {},
     "output_type": "execute_result"
    }
   ],
   "source": [
    "# Độ cồn cao hơn thì rượu được ưa thích hơn phải không?\n",
    "# Tính trung vị của độ cồn:\n",
    "df.alcohol.median()\n"
   ]
  },
  {
   "cell_type": "code",
   "execution_count": 2,
   "metadata": {},
   "outputs": [
    {
     "data": {
      "text/plain": [
       "True"
      ]
     },
     "execution_count": 2,
     "metadata": {},
     "output_type": "execute_result"
    }
   ],
   "source": [
    "# Lấy ra nhóm độ cồn thấp hơn trung vị\n",
    "low_alcohol = df.query('alcohol < 10.3')\n",
    "# Lấy ra nhóm độ cồn từ trung vị trở lên\n",
    "high_alcohol = df.query('alcohol >= 10.3')\n",
    "# Kiểm tra để chắc chắn rằng không có bản ghi nào bị trùng ở cả 2 nhóm\n",
    "num_samples = df.shape[0] #Tạo biến với kích thước của DataFrame\n",
    "num_samples == low_alcohol['quality'].count() + high_alcohol['quality'].count() #True thì không có bản ghi trùng"
   ]
  },
  {
   "cell_type": "code",
   "execution_count": 6,
   "metadata": {},
   "outputs": [
    {
     "data": {
      "text/plain": [
       "(5.475920679886686, 6.146084337349397)"
      ]
     },
     "execution_count": 6,
     "metadata": {},
     "output_type": "execute_result"
    }
   ],
   "source": [
    "# Tính điểm trung bình ở hai nhóm để so sánh kết quả:\n",
    "low_alcohol.quality.mean(), high_alcohol.quality.mean()"
   ]
  },
  {
   "cell_type": "markdown",
   "metadata": {},
   "source": [
    "Như vậy là nhóm có độ cồn cao có điểm trung bình cao hơn."
   ]
  },
  {
   "cell_type": "code",
   "execution_count": 9,
   "metadata": {},
   "outputs": [
    {
     "data": {
      "text/plain": [
       "3.0"
      ]
     },
     "execution_count": 9,
     "metadata": {},
     "output_type": "execute_result"
    }
   ],
   "source": [
    "# Tương tự, kiểm tra xem vang ngọt hơn có được đánh giá tốt hơn không?\n",
    "df['residual sugar'].median()"
   ]
  },
  {
   "cell_type": "code",
   "execution_count": 3,
   "metadata": {},
   "outputs": [
    {
     "data": {
      "text/plain": [
       "True"
      ]
     },
     "execution_count": 3,
     "metadata": {},
     "output_type": "execute_result"
    }
   ],
   "source": [
    "# Lấy ra nhóm độ đường thấp hơn trung vị\n",
    "low_sugar = df.query('`residual sugar` < 3.0')\n",
    "# Lấy ra nhóm độ đường từ trung vị trở lên\n",
    "high_sugar = df.query('`residual sugar` >= 3.0')\n",
    "# Kiểm tra để chắc chắn rằng không có bản ghi nào bị trùng ở cả 2 nhóm\n",
    "num_samples = df.shape[0] #Tạo biến với kích thước của DataFrame\n",
    "num_samples == low_sugar['quality'].count() + high_sugar['quality'].count() #True thì không có bản ghi trùng"
   ]
  },
  {
   "cell_type": "code",
   "execution_count": 26,
   "metadata": {},
   "outputs": [
    {
     "data": {
      "text/plain": [
       "(5.808800743724822, 5.82782874617737)"
      ]
     },
     "execution_count": 26,
     "metadata": {},
     "output_type": "execute_result"
    }
   ],
   "source": [
    "# So sánh điểm trung bình giữa hai nhóm\n",
    "low_sugar.quality.mean(),high_sugar.quality.mean()"
   ]
  },
  {
   "cell_type": "markdown",
   "metadata": {},
   "source": [
    "Sự chênh lệch không đáng kể."
   ]
  },
  {
   "cell_type": "markdown",
   "metadata": {},
   "source": [
    "### Bước 5: Vẽ biểu đồ thể hiện kết quả tìm kiếm được\n",
    "\n",
    "import pandas as pd\n",
    "import matplotlib.pyplot as plt\n",
    "import seaborn as sns\n",
    "% matplotlib inline\n",
    "\n",
    "wine_df = pd.read_csv('winequality.csv')\n",
    "wine_df.head()\n",
    "\n",
    "Ví dụ:\n",
    "\n",
    "colors = ['red', 'white']\n",
    "wine_df.groupby('color')['quality'].mean().plot(kind='bar', title='Average Wine Quality by Color', color=colors, alpha=.7);\n",
    "plt.xlabel('Colors', fontsize=18)\n",
    "plt.ylabel('Quality', fontsize=18)\n",
    "\n",
    "-------\n",
    "\n",
    "colors = ['red', 'white']\n",
    "color_means =wine_df.groupby('color')['quality'].mean()\n",
    "color_means.plot(kind='bar', title='Average Wine Quality by Color', color=colors, alpha=.7);\n",
    "plt.xlabel('Colors', fontsize=18)\n",
    "plt.ylabel('Quality', fontsize=18)"
   ]
  },
  {
   "cell_type": "markdown",
   "metadata": {},
   "source": []
  },
  {
   "cell_type": "code",
   "execution_count": 4,
   "metadata": {},
   "outputs": [
    {
     "data": {
      "image/png": "[encoded data removed]",
      "text/plain": [
       "<Figure size 432x288 with 1 Axes>"
      ]
     },
     "metadata": {
      "needs_background": "light"
     },
     "output_type": "display_data"
    }
   ],
   "source": [
    "# Tạo biểu đồ cột về độ cồn\n",
    "locations = [1, 2]\n",
    "heights = [low_alcohol.quality.mean(), high_alcohol.quality.mean()]\n",
    "labels = ['Low', 'High']\n",
    "plt.bar(locations, heights, tick_label=labels)\n",
    "plt.title('Average Quality Ratings by Alcohol Content')\n",
    "plt.xlabel('Alcohol Content')\n",
    "plt.ylabel('Average Quality Rating');"
   ]
  },
  {
   "cell_type": "code",
   "execution_count": 5,
   "metadata": {},
   "outputs": [
    {
     "data": {
      "image/png": "[encoded data removed]",
      "text/plain": [
       "<Figure size 432x288 with 1 Axes>"
      ]
     },
     "metadata": {
      "needs_background": "light"
     },
     "output_type": "display_data"
    }
   ],
   "source": [
    "# Tạo biểu đồ cột về độ ngọt\n",
    "locations = [1, 2]\n",
    "heights = [low_sugar.quality.mean(),high_sugar.quality.mean()]\n",
    "labels = ['Low', 'High']\n",
    "plt.bar(locations, heights, tick_label=labels)\n",
    "plt.title('Average Quality Ratings by Residual Sugar')\n",
    "plt.xlabel('Residual Sugar')\n",
    "plt.ylabel('Average Quality Rating');"
   ]
  },
  {
   "cell_type": "code",
   "execution_count": 10,
   "metadata": {},
   "outputs": [
    {
     "data": {
      "text/plain": [
       "acidity_levels\n",
       "high        5.783343\n",
       "low         5.859593\n",
       "medium      5.850832\n",
       "mod_high    5.784540\n",
       "Name: quality, dtype: float64"
      ]
     },
     "execution_count": 10,
     "metadata": {},
     "output_type": "execute_result"
    }
   ],
   "source": [
    "df.groupby('acidity_levels').mean().quality"
   ]
  },
  {
   "cell_type": "code",
   "execution_count": 9,
   "metadata": {},
   "outputs": [
    {
     "data": {
      "image/png": "[encoded data removed]",
      "text/plain": [
       "<Figure size 432x288 with 1 Axes>"
      ]
     },
     "metadata": {
      "needs_background": "light"
     },
     "output_type": "display_data"
    }
   ],
   "source": [
    "# Tạo biểu đồ cột về độ acid\n",
    "\n",
    "locations = [4,1,2,3] #Dựa trên thứ tự của mean acidity levels và labels\n",
    "heights = df.groupby('acidity_levels').mean().quality\n",
    "labels = labels = ['Low', 'Medium', 'Moderately High', 'High']\n",
    "plt.bar(locations, heights, tick_label=labels)\n",
    "plt.title('Average Quality Ratings by Acidity Level')\n",
    "plt.xlabel('Acidity level')\n",
    "plt.ylabel('Average Quality Rating');\n"
   ]
  },
  {
   "cell_type": "code",
   "execution_count": null,
   "metadata": {},
   "outputs": [],
   "source": []
  }
 ],
 "metadata": {
  "interpreter": {
   "hash": "3bdf9f3d51a54943378783aca994e1eeb0b6622d9d1c319fb095fe6127625b30"
  },
  "kernelspec": {
   "display_name": "Python 3.9.7 ('base')",
   "language": "python",
   "name": "python3"
  },
  "language_info": {
   "codemirror_mode": {
    "name": "ipython",
    "version": 3
   },
   "file_extension": ".py",
   "mimetype": "text/x-python",
   "name": "python",
   "nbconvert_exporter": "python",
   "pygments_lexer": "ipython3",
   "version": "3.9.7"
  },
  "orig_nbformat": 4
 },
 "nbformat": 4,
 "nbformat_minor": 2
}
